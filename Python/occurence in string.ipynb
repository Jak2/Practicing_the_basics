{
 "cells": [
  {
   "cell_type": "code",
   "execution_count": 4,
   "metadata": {},
   "outputs": [
    {
     "name": "stdout",
     "output_type": "stream",
     "text": [
      "entered word = 'impecible interior illustration' \n",
      "and need to find 'i' \n",
      "6\n"
     ]
    }
   ],
   "source": [
    "word = input(\"enter the name\")\n",
    "findme = input(\"enter the letter to find\")\n",
    "print(f\"entered word = '{word}' \\nand need to find '{findme}' \")\n",
    "count = 0\n",
    "for letter in word:\n",
    "    if letter == findme:\n",
    "        count = count + 1\n",
    "print(count)"
   ]
  },
  {
   "cell_type": "code",
   "execution_count": 5,
   "metadata": {},
   "outputs": [
    {
     "name": "stdout",
     "output_type": "stream",
     "text": [
      "entered word = 'impecible interior illustration' \n",
      "and need to find 'i' \n",
      "6\n"
     ]
    }
   ],
   "source": [
    "word = input()\n",
    "findme = input()\n",
    "print(f\"entered word = '{word}' \\nand need to find '{findme}' \")\n",
    "print(word.count(findme))"
   ]
  }
 ],
 "metadata": {
  "kernelspec": {
   "display_name": "Python 3",
   "language": "python",
   "name": "python3"
  },
  "language_info": {
   "codemirror_mode": {
    "name": "ipython",
    "version": 3
   },
   "file_extension": ".py",
   "mimetype": "text/x-python",
   "name": "python",
   "nbconvert_exporter": "python",
   "pygments_lexer": "ipython3",
   "version": "3.10.12"
  }
 },
 "nbformat": 4,
 "nbformat_minor": 2
}
